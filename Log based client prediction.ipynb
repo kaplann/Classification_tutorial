{
 "cells": [
  {
   "cell_type": "markdown",
   "metadata": {},
   "source": [
    "<center><h1> Log based client recognition using Ensemble Methods</center></h1>"
   ]
  },
  {
   "cell_type": "markdown",
   "metadata": {},
   "source": [
    "<a id=\"top\"></a>"
   ]
  },
  {
   "cell_type": "markdown",
   "metadata": {},
   "source": [
    "#### A demonstration and exploration by Noam Kaplan. \n",
    "- Email:    Noam.Kaplan85@gmail.com\n",
    "- Linkedin: https://il.linkedin.com/in/noam-kaplan-22b46683"
   ]
  },
  {
   "cell_type": "markdown",
   "metadata": {},
   "source": [
    "### Table of contents: \n",
    "\n",
    "- [Introduction: ](#Introduction:)\n",
    "- [1. Data generation](#1. Data generation)\n",
    "- [2. Exploring the data](#2. Exploring the data)\n",
    "- [3. Client recognition](#3. Client recognition) \n",
    "    - [3.1. Transformers](#3.1 Transformers)\n",
    "    - [3.2. Simple pipelines](#3.2 Simple pipelines)\n",
    "    - [3.3. Feature Unions](#3.3 Feature Unions)\n",
    "    - [3.4 Simple Ensembling Method](#3.4 Simple Ensembling Method)\n",
    "    \n",
    "- [References](#References)"
   ]
  },
  {
   "cell_type": "markdown",
   "metadata": {},
   "source": [
    "<a id='Introduction:'></a>"
   ]
  },
  {
   "cell_type": "markdown",
   "metadata": {},
   "source": [
    "## Introduction: "
   ]
  },
  {
   "cell_type": "markdown",
   "metadata": {},
   "source": [
    "[[back to top](#top)]"
   ]
  },
  {
   "cell_type": "markdown",
   "metadata": {},
   "source": [
    "In The following demonstration I will first create Data in the form of entry logs. Each enrty will hold a few different values, corresponding to time and date of entrance, Total stay time, viewed categoreis, etc. Each of these values will be generated in a different manner, introducing a certain amount of randomality. \n",
    "\n",
    "Besides these values, each generated log will be associated with a specific client id. For clarity, let's assume the data was collected on instances when the client logged in using his username and password. In this tutorial I will describe the process of learning to identify the specific client in a session He has not logged on in. \n",
    "\n",
    "Disclaimer: \n",
    "\n",
    "At the end of the tutorial I have added a list of incredible tutorials I have been working with for a while. They were all used in the preparation of this tutorial, with some modification as needed. They were all used to a slightly different end than purposed for. I have added referrences into the notebook at specific points as well. \n",
    "    - I have not yet finished clearly documenting this code. If any questions arise, please contact me. \n",
    "    - I will appreciate any corrections or suggestions for improvment. "
   ]
  },
  {
   "cell_type": "markdown",
   "metadata": {},
   "source": [
    "<a id='1. Data generation'></a>"
   ]
  },
  {
   "cell_type": "markdown",
   "metadata": {},
   "source": [
    "## 1. Data generation"
   ]
  },
  {
   "cell_type": "markdown",
   "metadata": {},
   "source": [
    "[[back to top](#top)]"
   ]
  },
  {
   "cell_type": "code",
   "execution_count": 2,
   "metadata": {
    "collapsed": false
   },
   "outputs": [],
   "source": [
    "from sklearn.feature_extraction.text  import CountVectorizer\n",
    "from sklearn.naive_bayes              import MultinomialNB\n",
    "from sklearn.linear_model             import LinearRegression, LogisticRegression\n",
    "from sklearn.ensemble                 import RandomForestRegressor\n",
    "from sklearn.pipeline                 import Pipeline, FeatureUnion\n",
    "from sklearn.base                     import TransformerMixin\n",
    "from sklearn.cross_validation         import KFold, train_test_split \n",
    "from sklearn.metrics                  import confusion_matrix, f1_score\n",
    "import pandas as pd\n",
    "import numpy as np\n",
    "import math\n",
    "import matplotlib\n",
    "import matplotlib.pyplot as plt\n",
    "matplotlib.style.use('ggplot')\n",
    "%matplotlib inline"
   ]
  },
  {
   "cell_type": "code",
   "execution_count": 3,
   "metadata": {
    "collapsed": true
   },
   "outputs": [],
   "source": [
    "#Define variable n for number of logs entries for each client. \n",
    "n = 10000\n",
    "predict_by = 'Client'"
   ]
  },
  {
   "cell_type": "markdown",
   "metadata": {},
   "source": [
    "#### We start by generating the data from which the logs will be comprised. In order to make the task of client recognition interesting, values generated for either of our two different users will not form disjoint sets. \n",
    "\n",
    "#### Since the data was generated in an ad-hoc manner to fit graphs I had planned, I suggest jumping straight to [2. Exploring the data](#2. Exploring the data)"
   ]
  },
  {
   "cell_type": "code",
   "execution_count": 4,
   "metadata": {
    "collapsed": false
   },
   "outputs": [],
   "source": [
    "# Total stay - Randomly distributed from uniform distributions with some overlapping. \n",
    "# Already Numpy array\n",
    "def total_stay_gen(low_lim, high_lim, size):\n",
    "    total_stay = np.random.uniform(low=low_lim, high=high_lim, size=size)\n",
    "    return total_stay"
   ]
  },
  {
   "cell_type": "code",
   "execution_count": 5,
   "metadata": {
    "collapsed": false
   },
   "outputs": [],
   "source": [
    "def multiple_gausians(locations, scales, sizes): \n",
    "    num_centers = len(locations)\n",
    "    sum_of_gausians = np.asarray([])\n",
    "    for i in range(num_centers): \n",
    "        sum_of_gausians = np.concatenate((sum_of_gausians, gausian_feature(loc=locations[i], scale=scales[i], size=sizes[i])))\n",
    "    return sum_of_gausians\n",
    "\n",
    "# New data for data oservation:\n",
    "def gausian_feature(loc, scale, size):\n",
    "    return np.random.normal(loc, scale, size) \n",
    "    "
   ]
  },
  {
   "cell_type": "code",
   "execution_count": 6,
   "metadata": {
    "collapsed": false
   },
   "outputs": [],
   "source": [
    "def gen_gausian_vector_params(client, n):\n",
    "    v1 = [[ 100,  30, -10, -30], [10, 4, 3, 3], [n-int(5*n/12)-int(n/12)-int(n/12), int(5*n/12), int(n/12), int(n/12)]]\n",
    "    v2 = [[-100, -30,  10,  30], [10, 4, 3, 3], [n-int(5*n/12)-int(n/12)-int(n/12), int(5*n/12), int(n/12), int(n/12)]]\n",
    "    if client == 'Client1':\n",
    "        return v1\n",
    "    if client == 'Client2':\n",
    "        return v2"
   ]
  },
  {
   "cell_type": "code",
   "execution_count": 7,
   "metadata": {
    "collapsed": false
   },
   "outputs": [],
   "source": [
    "def gen_gaus(client, size):\n",
    "    locations, scales, sizes = gen_gausian_vector_params(client, size)\n",
    "    return multiple_gausians(locations, scales, sizes)"
   ]
  },
  {
   "cell_type": "code",
   "execution_count": 8,
   "metadata": {
    "collapsed": false
   },
   "outputs": [],
   "source": [
    "def create_log_list(entry_time=None, total_stay=[0,5], client=None, categories=None, n=n):\n",
    "    if client == 'Client1':\n",
    "        entry_time, categories, ts, cid = ('1/1/2011', ['Electric appliance', 'Climbing equipment', 'etc'], [1,7], 1) \n",
    "    if client == 'Client2': \n",
    "        entry_time, categories, ts, cid = ('15/7/2011 12:00:00', [\"Women's clothing\", 'Jewlery', 'etc'], [5,11], 2)\n",
    "        \n",
    "    # Create n different time stamps for each user, groups overlap as will be shown in plot. \n",
    "    timeStamps = pd.date_range(entry_time, periods=n, freq='H')\n",
    "    # Categories - group of categories, two disjoint and one shared ('etc').   \n",
    "#    catagories_vec = np.asarray([categories[0]]*int(n/3) + \n",
    "#                            [categories[1]]*int(n/3) + \n",
    "#                            [categories[2]]*int(n-(2*int(n/3))))\n",
    "    # Categories - group of categories, two disjoint and one shared ('etc').  \n",
    "    # Mixing list for more randomality\n",
    "    categories_vec = [categories[0]]*int(n/3) + [categories[1]]*int(n/3) + [categories[2]]*int(n-(2*int(n/3)))\n",
    "    np.random.shuffle(categories_vec)\n",
    "    categories_vec = np.asarray(categories_vec)\n",
    "   \n",
    "    total_stay = total_stay_gen(ts[0], ts[1], n)\n",
    "\n",
    "    # New data for data oservation: \n",
    "    gausian_feature = gen_gaus(client, n)\n",
    "    #gausian_feature = np.random.normal(loc=110, scale=13, size = n) \n",
    "    \n",
    "    return [timeStamps, categories_vec, total_stay, gausian_feature]"
   ]
  },
  {
   "cell_type": "code",
   "execution_count": 9,
   "metadata": {
    "collapsed": false
   },
   "outputs": [],
   "source": [
    "# Create dictionary with data generated for Client1.\n",
    "#Create DataFrame object for Client1.  \n",
    "def feature_df(features, cid):\n",
    "    if cid == 1: \n",
    "        ran = [1, n+1]\n",
    "    if cid == 2: \n",
    "        ran= [n+2, 2*n+2]\n",
    "    dict1 = {'Entry_times'     : features[0],\n",
    "            'Categories'      : features[1], \n",
    "            'Total_stay'      : features[2],\n",
    "            'Gausian_feature' : features[3],\n",
    "            'Client'          : cid*np.ones(n)} \n",
    "    cols = ['Entry_times', 'Categories','Total_stay', 'Gausian_feature', 'Client']\n",
    "    df = pd.DataFrame(dict1, index=range(ran[0],ran[1]), columns=cols)\n",
    "    return df"
   ]
  },
  {
   "cell_type": "code",
   "execution_count": 10,
   "metadata": {
    "collapsed": true
   },
   "outputs": [],
   "source": [
    "#Create single data frame with both clients logs. Returned data is mixed using reindex. \n",
    "def create_log():\n",
    "    df1 = feature_df(create_log_list(client='Client1'), 1)\n",
    "    df2 = feature_df(create_log_list(client='Client2'), 2)\n",
    "    # Create DataFrame with data collected about both users using concat. Data is sorted.\n",
    "    data = pd.concat([df1, df2], ignore_index=True)\n",
    "    data = data.reindex(np.random.permutation(data.index))\n",
    "    return data"
   ]
  },
  {
   "cell_type": "markdown",
   "metadata": {},
   "source": [
    "<a id='2. Exploring the data'></a>"
   ]
  },
  {
   "cell_type": "markdown",
   "metadata": {},
   "source": [
    "### 2. Exploring the data"
   ]
  },
  {
   "cell_type": "markdown",
   "metadata": {},
   "source": [
    "[[back to top](#top)]"
   ]
  },
  {
   "cell_type": "markdown",
   "metadata": {},
   "source": [
    "#### Our first step will be to create and view the data logs created by the above functions. "
   ]
  },
  {
   "cell_type": "code",
   "execution_count": 11,
   "metadata": {
    "collapsed": false
   },
   "outputs": [
    {
     "data": {
      "text/html": [
       "<div>\n",
       "<table border=\"1\" class=\"dataframe\">\n",
       "  <thead>\n",
       "    <tr style=\"text-align: right;\">\n",
       "      <th></th>\n",
       "      <th>Entry_times</th>\n",
       "      <th>Categories</th>\n",
       "      <th>Total_stay</th>\n",
       "      <th>Gausian_feature</th>\n",
       "      <th>Client</th>\n",
       "    </tr>\n",
       "  </thead>\n",
       "  <tbody>\n",
       "    <tr>\n",
       "      <th>5325</th>\n",
       "      <td>2011-08-10 21:00:00</td>\n",
       "      <td>Electric appliance</td>\n",
       "      <td>6.297837</td>\n",
       "      <td>34.306775</td>\n",
       "      <td>1</td>\n",
       "    </tr>\n",
       "    <tr>\n",
       "      <th>8523</th>\n",
       "      <td>2011-12-22 03:00:00</td>\n",
       "      <td>etc</td>\n",
       "      <td>4.983233</td>\n",
       "      <td>-7.034270</td>\n",
       "      <td>1</td>\n",
       "    </tr>\n",
       "    <tr>\n",
       "      <th>15403</th>\n",
       "      <td>2012-02-25 15:00:00</td>\n",
       "      <td>etc</td>\n",
       "      <td>9.513337</td>\n",
       "      <td>-31.343766</td>\n",
       "      <td>2</td>\n",
       "    </tr>\n",
       "    <tr>\n",
       "      <th>2152</th>\n",
       "      <td>2011-03-31 16:00:00</td>\n",
       "      <td>etc</td>\n",
       "      <td>4.039262</td>\n",
       "      <td>98.370546</td>\n",
       "      <td>1</td>\n",
       "    </tr>\n",
       "    <tr>\n",
       "      <th>19644</th>\n",
       "      <td>2012-08-20 08:00:00</td>\n",
       "      <td>Women's clothing</td>\n",
       "      <td>5.910105</td>\n",
       "      <td>26.894948</td>\n",
       "      <td>2</td>\n",
       "    </tr>\n",
       "    <tr>\n",
       "      <th>7018</th>\n",
       "      <td>2011-10-20 10:00:00</td>\n",
       "      <td>Climbing equipment</td>\n",
       "      <td>3.255399</td>\n",
       "      <td>28.307711</td>\n",
       "      <td>1</td>\n",
       "    </tr>\n",
       "    <tr>\n",
       "      <th>19226</th>\n",
       "      <td>2012-08-02 22:00:00</td>\n",
       "      <td>etc</td>\n",
       "      <td>9.466290</td>\n",
       "      <td>33.658261</td>\n",
       "      <td>2</td>\n",
       "    </tr>\n",
       "    <tr>\n",
       "      <th>4614</th>\n",
       "      <td>2011-07-12 06:00:00</td>\n",
       "      <td>Electric appliance</td>\n",
       "      <td>2.847985</td>\n",
       "      <td>25.183459</td>\n",
       "      <td>1</td>\n",
       "    </tr>\n",
       "    <tr>\n",
       "      <th>18578</th>\n",
       "      <td>2012-07-06 22:00:00</td>\n",
       "      <td>Jewlery</td>\n",
       "      <td>9.392222</td>\n",
       "      <td>6.186682</td>\n",
       "      <td>2</td>\n",
       "    </tr>\n",
       "    <tr>\n",
       "      <th>16892</th>\n",
       "      <td>2012-04-27 16:00:00</td>\n",
       "      <td>Women's clothing</td>\n",
       "      <td>8.221460</td>\n",
       "      <td>-27.819518</td>\n",
       "      <td>2</td>\n",
       "    </tr>\n",
       "  </tbody>\n",
       "</table>\n",
       "</div>"
      ],
      "text/plain": [
       "              Entry_times          Categories  Total_stay  Gausian_feature  \\\n",
       "5325  2011-08-10 21:00:00  Electric appliance    6.297837        34.306775   \n",
       "8523  2011-12-22 03:00:00                 etc    4.983233        -7.034270   \n",
       "15403 2012-02-25 15:00:00                 etc    9.513337       -31.343766   \n",
       "2152  2011-03-31 16:00:00                 etc    4.039262        98.370546   \n",
       "19644 2012-08-20 08:00:00    Women's clothing    5.910105        26.894948   \n",
       "7018  2011-10-20 10:00:00  Climbing equipment    3.255399        28.307711   \n",
       "19226 2012-08-02 22:00:00                 etc    9.466290        33.658261   \n",
       "4614  2011-07-12 06:00:00  Electric appliance    2.847985        25.183459   \n",
       "18578 2012-07-06 22:00:00             Jewlery    9.392222         6.186682   \n",
       "16892 2012-04-27 16:00:00    Women's clothing    8.221460       -27.819518   \n",
       "\n",
       "       Client  \n",
       "5325        1  \n",
       "8523        1  \n",
       "15403       2  \n",
       "2152        1  \n",
       "19644       2  \n",
       "7018        1  \n",
       "19226       2  \n",
       "4614        1  \n",
       "18578       2  \n",
       "16892       2  "
      ]
     },
     "execution_count": 11,
     "metadata": {},
     "output_type": "execute_result"
    }
   ],
   "source": [
    "data = create_log() \n",
    "# Print out first 10 entries of new table. \n",
    "data[:10]"
   ]
  },
  {
   "cell_type": "markdown",
   "metadata": {},
   "source": [
    "#### By viewing the first 10 entries alone, a few matters become clear:\n",
    "    - Indexes are not sequential or orderd. After creating the logs I arbitrarily split the data, in order to avoid wrong conclusions. This is crucial for cross-validation, so that when splitting data, all groups will have the same distribution. (Since using K-fold this is not necessary. :) )\n",
    "    - Each row represents one entry and a few different kinds of values of information. \n",
    "    - Each enrty is associated with one of two Clients. "
   ]
  },
  {
   "cell_type": "markdown",
   "metadata": {},
   "source": [
    "#### This part of the process is a critical stage for many reasons. For starters, since this is not real data but specifically generated, It is necessary to verify that the data was properly generated. \n",
    "\n",
    "#### Beyond this task specific reason, understanding the data is perhaps the most crucial phase in choosing the correct method with which an individual objective can be persued. This will become clearly evident while comparing results of classifiers in part 3. \n",
    "\n",
    "#### As a first means of gaining insight, pandas package offers us the simple to use and informative describe function. "
   ]
  },
  {
   "cell_type": "code",
   "execution_count": 12,
   "metadata": {
    "collapsed": false
   },
   "outputs": [
    {
     "data": {
      "text/html": [
       "<div>\n",
       "<table border=\"1\" class=\"dataframe\">\n",
       "  <thead>\n",
       "    <tr style=\"text-align: right;\">\n",
       "      <th></th>\n",
       "      <th>Client</th>\n",
       "    </tr>\n",
       "  </thead>\n",
       "  <tbody>\n",
       "    <tr>\n",
       "      <th>count</th>\n",
       "      <td>20000.000000</td>\n",
       "    </tr>\n",
       "    <tr>\n",
       "      <th>mean</th>\n",
       "      <td>1.500000</td>\n",
       "    </tr>\n",
       "    <tr>\n",
       "      <th>std</th>\n",
       "      <td>0.500013</td>\n",
       "    </tr>\n",
       "    <tr>\n",
       "      <th>min</th>\n",
       "      <td>1.000000</td>\n",
       "    </tr>\n",
       "    <tr>\n",
       "      <th>25%</th>\n",
       "      <td>1.000000</td>\n",
       "    </tr>\n",
       "    <tr>\n",
       "      <th>50%</th>\n",
       "      <td>1.500000</td>\n",
       "    </tr>\n",
       "    <tr>\n",
       "      <th>75%</th>\n",
       "      <td>2.000000</td>\n",
       "    </tr>\n",
       "    <tr>\n",
       "      <th>max</th>\n",
       "      <td>2.000000</td>\n",
       "    </tr>\n",
       "  </tbody>\n",
       "</table>\n",
       "</div>"
      ],
      "text/plain": [
       "             Client\n",
       "count  20000.000000\n",
       "mean       1.500000\n",
       "std        0.500013\n",
       "min        1.000000\n",
       "25%        1.000000\n",
       "50%        1.500000\n",
       "75%        2.000000\n",
       "max        2.000000"
      ]
     },
     "execution_count": 12,
     "metadata": {},
     "output_type": "execute_result"
    }
   ],
   "source": [
    "pd.DataFrame(data['Client'].describe())"
   ]
  },
  {
   "cell_type": "markdown",
   "metadata": {},
   "source": [
    "#### It is evident from the mean value (not only) that the enries are split fairly as half originating from Client 1 and half from Client 2. When exploring the column 'Entry_times' on the other hand, a different picture is evident. "
   ]
  },
  {
   "cell_type": "code",
   "execution_count": 13,
   "metadata": {
    "collapsed": false
   },
   "outputs": [
    {
     "data": {
      "text/html": [
       "<div>\n",
       "<table border=\"1\" class=\"dataframe\">\n",
       "  <thead>\n",
       "    <tr style=\"text-align: right;\">\n",
       "      <th></th>\n",
       "      <th>Entry_times</th>\n",
       "    </tr>\n",
       "  </thead>\n",
       "  <tbody>\n",
       "    <tr>\n",
       "      <th>count</th>\n",
       "      <td>20000</td>\n",
       "    </tr>\n",
       "    <tr>\n",
       "      <th>unique</th>\n",
       "      <td>14692</td>\n",
       "    </tr>\n",
       "    <tr>\n",
       "      <th>top</th>\n",
       "      <td>2011-09-21 10:00:00</td>\n",
       "    </tr>\n",
       "    <tr>\n",
       "      <th>freq</th>\n",
       "      <td>2</td>\n",
       "    </tr>\n",
       "    <tr>\n",
       "      <th>first</th>\n",
       "      <td>2011-01-01 00:00:00</td>\n",
       "    </tr>\n",
       "    <tr>\n",
       "      <th>last</th>\n",
       "      <td>2012-09-04 03:00:00</td>\n",
       "    </tr>\n",
       "  </tbody>\n",
       "</table>\n",
       "</div>"
      ],
      "text/plain": [
       "                Entry_times\n",
       "count                 20000\n",
       "unique                14692\n",
       "top     2011-09-21 10:00:00\n",
       "freq                      2\n",
       "first   2011-01-01 00:00:00\n",
       "last    2012-09-04 03:00:00"
      ]
     },
     "execution_count": 13,
     "metadata": {},
     "output_type": "execute_result"
    }
   ],
   "source": [
    "pd.DataFrame(data['Entry_times'].describe())"
   ]
  },
  {
   "cell_type": "markdown",
   "metadata": {},
   "source": [
    "#### Note that out of all 20000 logs, only 14692 are unique (each entry time per client is unique), meaning ~26.5% percent of the entry times are shared between clients. \n",
    "\n",
    "####  My intention was too create entries where each feature collected of an entry will be very informative in most cases, if it was sampled out of the disjoint part of the domain, or not informative if it originated from the overlapping part of the domains. "
   ]
  },
  {
   "cell_type": "markdown",
   "metadata": {},
   "source": [
    "#### As can be seen in the plot the histogram below, total stay values overlap in one segment in the middle. By observing only this parameter, in the great majority of cases (around 80%) a correct decision could be reached. The same is true for other parameters as well as shown below. "
   ]
  },
  {
   "cell_type": "code",
   "execution_count": 14,
   "metadata": {
    "collapsed": false
   },
   "outputs": [
    {
     "data": {
      "image/png": "[encoded data removed]",
      "text/plain": [
       "<matplotlib.figure.Figure at 0x7f0ef51b1518>"
      ]
     },
     "metadata": {},
     "output_type": "display_data"
    }
   ],
   "source": [
    "C1_stay = data.Total_stay[(data['Client'] == 1)]\n",
    "C2_stay = data.Total_stay[(data['Client'] == 2)]\n",
    "\n",
    "fig, axes = plt.subplots(1, 2, figsize=(12,4))\n",
    "\n",
    "axes[0].hist(data.Total_stay,  bins=300, alpha=1)\n",
    "axes[0].set_title(\"Total stay\");\n",
    "\n",
    "axes[1].hist(C1_stay,bins=160, label='Client1', color='blue', alpha=0.7);\n",
    "axes[1].set_ylim([0, 150])\n",
    "axes[1].hist(C2_stay,bins=160, alpha=0.7, color='green', )\n",
    "axes[1].set_title(\"Total stay - distinct clients\");"
   ]
  },
  {
   "cell_type": "code",
   "execution_count": 82,
   "metadata": {
    "collapsed": false
   },
   "outputs": [
    {
     "data": {
      "image/png": "[encoded data removed]",
      "text/plain": [
       "<matplotlib.figure.Figure at 0x7f0ef51c2390>"
      ]
     },
     "metadata": {},
     "output_type": "display_data"
    }
   ],
   "source": [
    "C1_gaus = data.Gausian_feature[(data['Client'] == 1)]\n",
    "C2_gaus = data.Gausian_feature[(data['Client'] == 2)]\n",
    "\n",
    "fig, axes = plt.subplots(1, 2, figsize=(12,4))\n",
    "\n",
    "axes[0].hist(data.Gausian_feature,  bins=140)\n",
    "axes[0].set_title(\"Gausian feature\")\n",
    "\n",
    "axes[1].set_title(\"Gausian feature - distinct clients\")\n",
    "axes[1].hist(C1_gaus, bins=70, label='Client1', color='blue', alpha=0.5)\n",
    "axes[1].hist(C2_gaus, bins=70, alpha=0.5, color='green', label=r'$Client2$');"
   ]
  },
  {
   "cell_type": "markdown",
   "metadata": {},
   "source": [
    "Note overlapping part of the green and blue data under the high columns. \n",
    "\n",
    "Through carful observation of the data, We can estimate that even a simple algorithm can reach good recognition preformance based on the disjoint part of the data alone. We will proceed to validate this assumption. "
   ]
  },
  {
   "cell_type": "markdown",
   "metadata": {},
   "source": [
    "<a id='3. Client recognition'></a>"
   ]
  },
  {
   "cell_type": "markdown",
   "metadata": {},
   "source": [
    "### 3. Client Recognition"
   ]
  },
  {
   "cell_type": "markdown",
   "metadata": {},
   "source": [
    "[[back to top](#top)]"
   ]
  },
  {
   "cell_type": "markdown",
   "metadata": {},
   "source": [
    "In this part of the tutorial, We will explore different classifing methods, their advantages and disadvantages and mostly try to match the correct scheme to the given data. "
   ]
  },
  {
   "cell_type": "markdown",
   "metadata": {},
   "source": [
    "<a id='3.1 Transformers'></a>"
   ]
  },
  {
   "cell_type": "markdown",
   "metadata": {},
   "source": [
    "#### 3.1 Transformers"
   ]
  },
  {
   "cell_type": "markdown",
   "metadata": {},
   "source": [
    "[[back to top](#top)]"
   ]
  },
  {
   "cell_type": "markdown",
   "metadata": {},
   "source": [
    "Inorder to facilitate different properties of our data and easy work with Sklearn-pipelines,  three new objects must be defined. I will not expand on the subject by highly recommend <a href=\"http://zacstewart.com/2014/08/05/pipelines-of-featureunions-of-pipelines.html\">Zac Stewart's tutorial</a> on pipelines and featureUnions. \n"
   ]
  },
  {
   "cell_type": "code",
   "execution_count": 16,
   "metadata": {
    "collapsed": true
   },
   "outputs": [],
   "source": [
    "#Reshaper: \n",
    "class Reshaper(TransformerMixin):\n",
    "\n",
    "    def __init__(self, shape=[1,1]):\n",
    "        self.shape = shape\n",
    "\n",
    "    def fit_transform(self, X, y=None, **fit_params):\n",
    "        self.fit(X, y, **fit_params)\n",
    "        return self.transform(X)\n",
    "\n",
    "    def transform(self, X, **transform_params):\n",
    "        return X.reshape(self.shape[0],self.shape[1])\n",
    "\n",
    "    def fit(self, X, y=None, **fit_params):\n",
    "        return self"
   ]
  },
  {
   "cell_type": "code",
   "execution_count": 17,
   "metadata": {
    "collapsed": true
   },
   "outputs": [],
   "source": [
    "#Column extractor for choosing column out of data frame: \n",
    "class ColumnExtractor(TransformerMixin):\n",
    "\n",
    "    def __init__(self, columns=[]):\n",
    "        self.columns = columns\n",
    "\n",
    "    def fit_transform(self, X, y=None, **fit_params):\n",
    "        self.fit(X, y, **fit_params)\n",
    "        return self.transform(X)\n",
    "\n",
    "    def transform(self, X, **transform_params):\n",
    "        return X[self.columns]\n",
    "\n",
    "    def fit(self, X, y=None, **fit_params):\n",
    "        return self"
   ]
  },
  {
   "cell_type": "code",
   "execution_count": 18,
   "metadata": {
    "collapsed": true
   },
   "outputs": [],
   "source": [
    "class EntryTimesTransformer(TransformerMixin):\n",
    "\n",
    "    def transform(self, X, **transform_params):\n",
    "        return X.apply(lambda x: x.value)\n",
    "\n",
    "    def fit(self, X, y=None, **fit_params):\n",
    "        return self\n"
   ]
  },
  {
   "cell_type": "markdown",
   "metadata": {},
   "source": [
    "<a id='3.2 Simple pipelines'>"
   ]
  },
  {
   "cell_type": "markdown",
   "metadata": {},
   "source": [
    "#### 3.2 Simple pipelines"
   ]
  },
  {
   "cell_type": "markdown",
   "metadata": {},
   "source": [
    "[[back to top](#top)]"
   ]
  },
  {
   "cell_type": "markdown",
   "metadata": {},
   "source": [
    "In order to test our hypothesis that for most entries a correct prediction could be reached according to each individual feature, I have created pipelines for predicting clients according to one single feature. On some cases I alson compared to different classifiers on the same task. "
   ]
  },
  {
   "cell_type": "code",
   "execution_count": 129,
   "metadata": {
    "collapsed": true
   },
   "outputs": [],
   "source": [
    "# Single feature Pipelines with LinearRegression classifier. \n",
    "\n",
    "pipeline_categories_LR = Pipeline([\n",
    "    ('extract_cat', ColumnExtractor('Categories')),\n",
    "    ('vectorizer',  CountVectorizer()),\n",
    "    ('classifier',  LinearRegression()) ])\n",
    "\n",
    "pipeline_Entry_times_LR = Pipeline([\n",
    "    ('extract_ts', ColumnExtractor('Entry_times')),\n",
    "    ('time_trans', EntryTimesTransformer()), \n",
    "    ('reshpe',     Reshaper([-1,1])),   \n",
    "    ('classifier', LinearRegression()) ])\n",
    "\n",
    "pipeline_Total_stay_LR = Pipeline([\n",
    "    ('extract_ts', ColumnExtractor('Total_stay')),\n",
    "    ('reshpe',     Reshaper([-1,1])),   \n",
    "    ('classifier', LinearRegression()) ])\n",
    "\n",
    "pipeline_Gausian_LR = Pipeline([\n",
    "    ('extract_Gausian', ColumnExtractor('Gausian_feature')),\n",
    "    ('reshpe',     Reshaper([-1,1])),   \n",
    "    ('classifier', LinearRegression()) ])\n"
   ]
  },
  {
   "cell_type": "code",
   "execution_count": 130,
   "metadata": {
    "collapsed": false
   },
   "outputs": [],
   "source": [
    "PL_single_feature_LR = {'Categories_LR' : pipeline_categories_LR, \n",
    "                        'Entry_times_LR': pipeline_Entry_times_LR, \n",
    "                        'Total_stay_LR' : pipeline_Total_stay_LR, \n",
    "                        'Gausian_LR'    : pipeline_Gausian_LR,     }"
   ]
  },
  {
   "cell_type": "markdown",
   "metadata": {},
   "source": [
    "Drawing again from  <a href=\"http://zacstewart.com/2015/04/28/document-classification-with-scikit-learn.html\">Zac Stewart's tutorial</a> , this time on document classification. The function test_pipelines is based on code originating from the tutorial, remixed into a recallable function, with some extra functionality. \n",
    "\n",
    "Using Scikit-learn's K-fold, pipelines are trained on 3/4 of the data, and then predict the client of the remaining quarter. This process is repeated for times, thus creating a prediction for every log. If variable add_pred_cols is set to True, the function will also return the data, with a prediction column add for every classifier used. This functionality will become usefull when ensembling. "
   ]
  },
  {
   "cell_type": "code",
   "execution_count": 131,
   "metadata": {
    "collapsed": false
   },
   "outputs": [],
   "source": [
    "def test_pipelines(data, pipelines_dict, n_folds_user=4, predict_by='Client', verbose=True, add_pred_cols=False):\n",
    "    if add_pred_cols: \n",
    "        copy_data = data.copy(deep=True)\n",
    "    for pipeline_name in pipelines_dict:\n",
    "        pipeline = pipelines_dict[pipeline_name]\n",
    "        k_fold = KFold(n=len(data), n_folds=n_folds_user)\n",
    "        scores = []\n",
    "        confusion = np.array([[0, 0], [0, 0]])\n",
    "        for train_indices, test_indices in k_fold:\n",
    "            train_feat = data.iloc[train_indices]\n",
    "            train_client = data.iloc[train_indices][predict_by].values\n",
    "\n",
    "            test_feat = data.iloc[test_indices]\n",
    "            test_client = data.iloc[test_indices][predict_by].values\n",
    "\n",
    "            pipeline.fit(train_feat, train_client)\n",
    "            predictions = pipeline.predict(test_feat)\n",
    "\n",
    "            confusion += confusion_matrix(test_client, predictions.round())\n",
    "            score = f1_score(test_client, predictions.round(), pos_label=1)\n",
    "            score += f1_score(test_client, predictions.round(), pos_label=2)            \n",
    "            score /=2\n",
    "            scores.append(score)\n",
    "            \n",
    "            if add_pred_cols:\n",
    "                copy_data.loc[test_feat.index,pipeline_name] = pd.Series(predictions.round(), index=test_feat.index)\n",
    "        \n",
    "        if verbose: \n",
    "            print('    Pipeline: ', pipeline_name)\n",
    "            print('    Score:', sum(scores)/len(scores))\n",
    "            print('    Confusion matrix:')\n",
    "            print('    ', confusion[0], '\\n', '   ', confusion[1])\n",
    "            missClassified = confusion[0][1]+confusion[1][0]\n",
    "            print('    Misclassified: ', missClassified, ','+'{0:2.2f}'.format((missClassified / int(2*n) * 100))+'%')\n",
    "            print('*'*35)\n",
    "    if add_pred_cols:\n",
    "        return copy_data"
   ]
  },
  {
   "cell_type": "code",
   "execution_count": 132,
   "metadata": {
    "collapsed": false
   },
   "outputs": [
    {
     "name": "stdout",
     "output_type": "stream",
     "text": [
      "    Pipeline:  Total_stay_LR\n",
      "    Score: 0.829124055196\n",
      "    Confusion matrix:\n",
      "     [8327 1673] \n",
      "     [1744 8256]\n",
      "    Misclassified:  3417 ,17.09%\n",
      "***********************************\n",
      "    Pipeline:  Categories_LR\n",
      "    Score: 0.825932823534\n",
      "    Confusion matrix:\n",
      "     [9153  847] \n",
      "     [2544 7456]\n",
      "    Misclassified:  3391 ,16.96%\n",
      "***********************************\n",
      "    Pipeline:  Gausian_LR\n",
      "    Score: 0.833427835314\n",
      "    Confusion matrix:\n",
      "     [8335 1665] \n",
      "     [1666 8334]\n",
      "    Misclassified:  3331 ,16.66%\n",
      "***********************************\n",
      "    Pipeline:  Entry_times_LR\n",
      "    Score: 0.73434018125\n",
      "    Confusion matrix:\n",
      "     [7344 2656] \n",
      "     [2657 7343]\n",
      "    Misclassified:  5313 ,26.57%\n",
      "***********************************\n"
     ]
    }
   ],
   "source": [
    "data_added_columns = test_pipelines(data, PL_single_feature_LR, verbose=True, add_pred_cols=True)"
   ]
  },
  {
   "cell_type": "markdown",
   "metadata": {},
   "source": [
    "As expected, using individal features as input for the classifiers enabled correct identification in most cases. Some Features proved more useful than others - resulting of course, in choices I made when generating the data. When Comparing Classifiers on the same feature, some classifiers returned better results, though in terms of order of magnitude, results did not vary greatly. As before, I will address the reasons for some of these differeces when tackling Ensembling. "
   ]
  },
  {
   "cell_type": "markdown",
   "metadata": {},
   "source": [
    "Due to the interesting nature of the Gausian feature's samples, I have decided to comapre another classifier on the same data. As can be seen in the plot of the Gausian freture above, decisions cannot be taken simply by dividing the area into two. I will delve deeper into the nature of these differences later on, when using ensembles, but the finer point can be made clear right now. "
   ]
  },
  {
   "cell_type": "code",
   "execution_count": 133,
   "metadata": {
    "collapsed": false
   },
   "outputs": [],
   "source": [
    "#Pipeline using only Gausian feature, with added \n",
    "pipeline_Gausian_RandomForest = Pipeline([\n",
    "    ('extract_Gausian', ColumnExtractor('Gausian_feature')),\n",
    "    ('reshpe',     Reshaper([-1,1])),   \n",
    "    ('classifier', RandomForestRegressor(n_jobs=-1, n_estimators=300, min_samples_split=10, max_features=1))\n",
    "    ])"
   ]
  },
  {
   "cell_type": "code",
   "execution_count": 134,
   "metadata": {
    "collapsed": true
   },
   "outputs": [],
   "source": [
    "PL_Comparing_gausian = {'Gausian_RandomForest'        : pipeline_Gausian_RandomForest, \n",
    "                        'Gausian_LinearRegression'    : pipeline_Gausian_LR,     }"
   ]
  },
  {
   "cell_type": "code",
   "execution_count": 135,
   "metadata": {
    "collapsed": false
   },
   "outputs": [
    {
     "name": "stdout",
     "output_type": "stream",
     "text": [
      "    Pipeline:  Gausian_LinearRegression\n",
      "    Score: 0.833427835314\n",
      "    Confusion matrix:\n",
      "     [8335 1665] \n",
      "     [1666 8334]\n",
      "    Misclassified:  3331 ,16.66%\n",
      "***********************************\n",
      "    Pipeline:  Gausian_RandomForest\n",
      "    Score: 0.891993682074\n",
      "    Confusion matrix:\n",
      "     [8907 1093] \n",
      "     [1067 8933]\n",
      "    Misclassified:  2160 ,10.80%\n",
      "***********************************\n"
     ]
    }
   ],
   "source": [
    "data_added_columns = test_pipelines(data_added_columns, PL_Comparing_gausian, verbose=True, add_pred_cols=True)"
   ]
  },
  {
   "cell_type": "markdown",
   "metadata": {},
   "source": [
    "Without going into the difference between classifiers, it is clear that using RandomeForest in this case, is more effective. "
   ]
  },
  {
   "cell_type": "code",
   "execution_count": 136,
   "metadata": {
    "collapsed": false
   },
   "outputs": [
    {
     "data": {
      "text/plain": [
       "([<matplotlib.axis.XTick at 0x7f0ef1fb91d0>,\n",
       "  <matplotlib.axis.XTick at 0x7f0ef2474c50>],\n",
       " <a list of 2 Text xticklabel objects>)"
      ]
     },
     "execution_count": 136,
     "metadata": {},
     "output_type": "execute_result"
    },
    {
     "data": {
      "image/png": "[encoded data removed]",
      "text/plain": [
       "<matplotlib.figure.Figure at 0x7f0ef2430828>"
      ]
     },
     "metadata": {},
     "output_type": "display_data"
    }
   ],
   "source": [
    "#TODO: add some plotting of results\n",
    "num_wrong_dict = {'PL_categories1 - MultinomailNB':3334, 'PL_categories2 - LinearRegression': 3410}\n",
    "\n",
    "plt.bar(range(len(num_wrong_dict)), num_wrong_dict.values(), align='center')\n",
    "plt.xticks(range(len(num_wrong_dict)), num_wrong_dict.keys(), rotation=25)"
   ]
  },
  {
   "cell_type": "markdown",
   "metadata": {},
   "source": [
    "</a><a id='3.3 Feature Unions'></a>"
   ]
  },
  {
   "cell_type": "markdown",
   "metadata": {},
   "source": [
    "#### 3.3 Feature Unions"
   ]
  },
  {
   "cell_type": "markdown",
   "metadata": {},
   "source": [
    "[[back to top](#top)]"
   ]
  },
  {
   "cell_type": "markdown",
   "metadata": {},
   "source": [
    "As expected, for the majority of cases, one feature is enough for correct classification, though in many cases it is not. An important fact that can be used to our advantage is that while a log entry might have a value that is not informative in one column, since columns are independent, it is likely some of the other features will be informative. To test this hypothesis I will create pipelines using FeatureUnions, thus using more information per desicion and hopefully improve performance. \n",
    "\n",
    "For the sake of simplicity and code length and readability, I will use RandomForest classifier, with the same parameters in all pipelines. "
   ]
  },
  {
   "cell_type": "code",
   "execution_count": 137,
   "metadata": {
    "collapsed": false
   },
   "outputs": [],
   "source": [
    "pipeline_double1 = Pipeline([\n",
    "        ('features', FeatureUnion([\n",
    "            ('entry', Pipeline([\n",
    "                ('extract_ES', ColumnExtractor('Entry_times')),\n",
    "                ('time_trans', EntryTimesTransformer()), \n",
    "                ('reshpe',     Reshaper([-1,1]))\n",
    "            ])),\n",
    "            ('total_stay', Pipeline([\n",
    "                ('extract_TS', ColumnExtractor('Total_stay')),\n",
    "                ('reshpe',     Reshaper([-1,1])), \n",
    "            ]))        \n",
    "        ])),\n",
    "        ('classifier', RandomForestRegressor(n_jobs=-1, n_estimators=300, min_samples_split=10, max_features=2))\n",
    "    ])\n",
    "\n",
    "pipeline_double2 = Pipeline([\n",
    "        ('features', FeatureUnion([\n",
    "            ('entry', Pipeline([\n",
    "                ('extract_ES', ColumnExtractor('Entry_times')),\n",
    "                ('time_trans', EntryTimesTransformer()), \n",
    "                ('reshpe',     Reshaper([-1,1]))\n",
    "            ])),\n",
    "            ('Gausian', Pipeline([\n",
    "                ('extract_Gausian', ColumnExtractor('Gausian_feature')),\n",
    "                ('reshpe',     Reshaper([-1,1])),   \n",
    "            ]))        \n",
    "        ])),\n",
    "        ('classifier', RandomForestRegressor(n_jobs=-1, n_estimators=300, min_samples_split=10, max_features=2))\n",
    "    ])\n",
    "\n",
    "pipeline_double3 = Pipeline([\n",
    "        ('features', FeatureUnion([\n",
    "            ('Gausian', Pipeline([\n",
    "                ('extract_Gausian', ColumnExtractor('Gausian_feature')),\n",
    "                ('reshpe',     Reshaper([-1,1])),   \n",
    "            ])),\n",
    "            ('total_stay', Pipeline([\n",
    "                ('extract_TS', ColumnExtractor('Total_stay')),\n",
    "                ('reshpe',     Reshaper([-1,1])), \n",
    "            ]))        \n",
    "        ])),\n",
    "        ('classifier', RandomForestRegressor(n_jobs=-1, n_estimators=300, min_samples_split=10, max_features=2))\n",
    "    ])\n",
    "\n"
   ]
  },
  {
   "cell_type": "code",
   "execution_count": 92,
   "metadata": {
    "collapsed": true
   },
   "outputs": [],
   "source": [
    "Double_pipelines = {'Double: Entry Times, Total Stay': pipeline_double1,\n",
    "                   'Double: Entry Times, Gausian'    : pipeline_double2, \n",
    "                   'Double: Gausian, Total Stay'     : pipeline_double3}"
   ]
  },
  {
   "cell_type": "code",
   "execution_count": 144,
   "metadata": {
    "collapsed": false
   },
   "outputs": [
    {
     "name": "stdout",
     "output_type": "stream",
     "text": [
      "    Pipeline:  Double: Entry Times, Total Stay\n",
      "    Score: 0.908284474231\n",
      "    Confusion matrix:\n",
      "     [9050  950] \n",
      "     [ 884 9116]\n",
      "    Misclassified:  1834 ,9.17%\n",
      "***********************************\n",
      "    Pipeline:  Double: Gausian, Total Stay\n",
      "    Score: 0.969145391183\n",
      "    Confusion matrix:\n",
      "     [9689  311] \n",
      "     [ 306 9694]\n",
      "    Misclassified:  617 ,3.08%\n",
      "***********************************\n",
      "    Pipeline:  Double: Entry Times, Gausian\n",
      "    Score: 0.958498627392\n",
      "    Confusion matrix:\n",
      "     [9586  414] \n",
      "     [ 416 9584]\n",
      "    Misclassified:  830 ,4.15%\n",
      "***********************************\n"
     ]
    }
   ],
   "source": [
    "data_added_columns = test_pipelines(data_added_columns, Double_pipelines, verbose=True, add_pred_cols=True)"
   ]
  },
  {
   "cell_type": "markdown",
   "metadata": {},
   "source": [
    "Simply put, using more features allows making a desicion based on more information, leads to improve results. We will inspect Tree features as well. "
   ]
  },
  {
   "cell_type": "code",
   "execution_count": 95,
   "metadata": {
    "collapsed": true
   },
   "outputs": [],
   "source": [
    "#Three features:\n",
    "pipeline_triple1 = Pipeline([\n",
    "        ('features', FeatureUnion([\n",
    "            ('Gausian', Pipeline([\n",
    "                ('extract_cat', ColumnExtractor('Gausian_feature')),\n",
    "                ('reshpe',     Reshaper([-1,1]))\n",
    "            ])),\n",
    "            ('entry', Pipeline([\n",
    "                ('extract_ts', ColumnExtractor('Entry_times')),\n",
    "                ('time_trans', EntryTimesTransformer()), \n",
    "                ('reshpe',     Reshaper([-1,1]))\n",
    "            ])),\n",
    "            ('total_stay', Pipeline([\n",
    "                ('extract_ts', ColumnExtractor('Total_stay')),\n",
    "                ('reshpe',     Reshaper([-1,1])), \n",
    "            ]))        \n",
    "        ])),\n",
    "        ('classifier', RandomForestRegressor(n_jobs=-1, n_estimators=300, min_samples_split=10, max_features=3))\n",
    "    ])\n",
    "\n",
    "pipeline_triple2 = Pipeline([\n",
    "        ('features', FeatureUnion([\n",
    "            ('Gausian', Pipeline([\n",
    "                ('extract_gaus', ColumnExtractor('Gausian_feature')),\n",
    "                ('reshpe',     Reshaper([-1,1]))\n",
    "            ])),\n",
    "            ('entry', Pipeline([\n",
    "                ('extract_ES', ColumnExtractor('Entry_times')),\n",
    "                ('time_trans', EntryTimesTransformer()), \n",
    "                ('reshpe',     Reshaper([-1,1]))\n",
    "            ])),\n",
    "            ('Categories', Pipeline([\n",
    "                ('extract_CAT', ColumnExtractor('Categories')),\n",
    "                ('vectorizer',  CountVectorizer()),\n",
    "            ])), \n",
    "        ])),\n",
    "        ('classifier', RandomForestRegressor(n_jobs=-1, n_estimators=300, min_samples_split=10, max_features=3))\n",
    "    ])\n",
    "\n",
    "pipeline_triple3 = Pipeline([\n",
    "        ('features', FeatureUnion([\n",
    "            ('Categories', Pipeline([\n",
    "                ('extract_CAT', ColumnExtractor('Categories')),\n",
    "                ('vectorizer',  CountVectorizer()),\n",
    "            ])),\n",
    "            ('entry', Pipeline([\n",
    "                ('extract_ES', ColumnExtractor('Entry_times')),\n",
    "                ('time_trans', EntryTimesTransformer()), \n",
    "                ('reshpe',     Reshaper([-1,1]))\n",
    "            ])),\n",
    "            ('total_stay', Pipeline([\n",
    "                ('extract_TS', ColumnExtractor('Total_stay')),\n",
    "                ('reshpe',     Reshaper([-1,1])), \n",
    "            ]))        \n",
    "        ])),\n",
    "        ('classifier', RandomForestRegressor(n_jobs=-1, n_estimators=300, min_samples_split=10, max_features=3))\n",
    "    ])"
   ]
  },
  {
   "cell_type": "code",
   "execution_count": 96,
   "metadata": {
    "collapsed": false
   },
   "outputs": [],
   "source": [
    "Triple_Pipelines = {'Triple: Gausian, Entry Times, Total Stay'   : pipeline_triple1,\n",
    "                    'Triple: Gausian, Entry Times, Categories'   : pipeline_triple2, \n",
    "                    'Triple: Categories, Entry_times, Total Stay': pipeline_triple3}"
   ]
  },
  {
   "cell_type": "code",
   "execution_count": 147,
   "metadata": {
    "collapsed": false
   },
   "outputs": [
    {
     "name": "stdout",
     "output_type": "stream",
     "text": [
      "    Pipeline:  Triple: Gausian, Entry Times, Total Stay\n",
      "    Score: 0.987898653067\n",
      "    Confusion matrix:\n",
      "     [9880  120] \n",
      "     [ 122 9878]\n",
      "    Misclassified:  242 ,1.21%\n",
      "***********************************\n",
      "    Pipeline:  Triple: Gausian, Entry Times, Categories\n",
      "    Score: 0.98614894783\n",
      "    Confusion matrix:\n",
      "     [9841  159] \n",
      "     [ 118 9882]\n",
      "    Misclassified:  277 ,1.39%\n",
      "***********************************\n",
      "    Pipeline:  Triple: Categories, Entry_times, Total Stay\n",
      "    Score: 0.970346379559\n",
      "    Confusion matrix:\n",
      "     [9687  313] \n",
      "     [ 280 9720]\n",
      "    Misclassified:  593 ,2.96%\n",
      "***********************************\n"
     ]
    }
   ],
   "source": [
    "data_added_columns = test_pipelines(data_added_columns, Triple_Pipelines, verbose=True, add_pred_cols=True)"
   ]
  },
  {
   "cell_type": "markdown",
   "metadata": {},
   "source": [
    "Again, using more features improved our decision making. The next obvious step will be to use all features combined. Let's do that. "
   ]
  },
  {
   "cell_type": "code",
   "execution_count": 101,
   "metadata": {
    "collapsed": true
   },
   "outputs": [],
   "source": [
    "all_features = FeatureUnion([\n",
    "            ('entry', Pipeline([\n",
    "                ('extract_ts', ColumnExtractor('Entry_times')),\n",
    "                ('time_trans', EntryTimesTransformer()), \n",
    "                ('reshpe',     Reshaper([-1,1]))\n",
    "            ])),\n",
    "            ('total_stay', Pipeline([\n",
    "                ('extract_ts', ColumnExtractor('Total_stay')),\n",
    "                ('reshpe',     Reshaper([-1,1])), \n",
    "            ])),\n",
    "            ('PL_categories1', Pipeline([\n",
    "                ('extract_ts', ColumnExtractor('Categories')),\n",
    "                ('vectorizer',  CountVectorizer()),\n",
    "            ])),\n",
    "            ('PL_Total_stay', Pipeline([\n",
    "                ('extract_ts', ColumnExtractor('Gausian_feature')),\n",
    "                ('reshpe',     Reshaper([-1,1])),\n",
    "            ]))\n",
    "            ])"
   ]
  },
  {
   "cell_type": "code",
   "execution_count": 108,
   "metadata": {
    "collapsed": false
   },
   "outputs": [],
   "source": [
    "Pipeline_AllFeatures = Pipeline([\n",
    "    ('All Features', all_features),\n",
    "    ('classifier', RandomForestRegressor(n_jobs=-1, n_estimators=300, min_samples_split=10, max_features=1))\n",
    "    ])"
   ]
  },
  {
   "cell_type": "code",
   "execution_count": 162,
   "metadata": {
    "collapsed": false
   },
   "outputs": [
    {
     "name": "stdout",
     "output_type": "stream",
     "text": [
      "    Pipeline:  All Features\n",
      "    Score: 0.996049685254\n",
      "    Confusion matrix:\n",
      "     [9952   48] \n",
      "     [  31 9969]\n",
      "    Misclassified:  79 ,0.40%\n",
      "***********************************\n"
     ]
    }
   ],
   "source": [
    "data_added_columns = test_pipelines(data_added_columns, {'All Features': Pipeline_AllFeatures}, verbose=True, add_pred_cols=True)"
   ]
  },
  {
   "cell_type": "markdown",
   "metadata": {},
   "source": [
    "As can be easily seen, when combining all of our features, results are almost perfect. Almost. "
   ]
  },
  {
   "cell_type": "markdown",
   "metadata": {},
   "source": [
    "</a><a id='3.4 Simple Ensembling Method'></a>"
   ]
  },
  {
   "cell_type": "markdown",
   "metadata": {},
   "source": [
    "### 3.4 Simple Ensembling Method"
   ]
  },
  {
   "cell_type": "markdown",
   "metadata": {},
   "source": [
    "[[back to top](#top)]"
   ]
  },
  {
   "cell_type": "markdown",
   "metadata": {},
   "source": [
    "Quoting <a href=\"https://en.wikipedia.org/wiki/Ensemble_learning\"> Wikipedia</a>, **\"Ensemble methods use multiple learning algorithms to obtain better predictive performance than could be obtained from any of the constituent learning algorithms.\"**\n",
    "\n",
    "#### As demonstrated below, function test_pipelines() not only tests classifiers but also adds prediction columns to each entry. This is done using K-fold, splitting training data into a \"sub\" training set and \"sub\" testing set, allowing over a few iterations adding predictions to each training entry. \n",
    "\n",
    "#### Adding these meta features should allow us to predict the correct answer not only based on more features. We should now be able to recognize under what conditions (depending on original features) each classifiers prediction are be informative. "
   ]
  },
  {
   "cell_type": "code",
   "execution_count": 138,
   "metadata": {
    "collapsed": false,
    "scrolled": true
   },
   "outputs": [
    {
     "data": {
      "text/html": [
       "<div>\n",
       "<table border=\"1\" class=\"dataframe\">\n",
       "  <thead>\n",
       "    <tr style=\"text-align: right;\">\n",
       "      <th></th>\n",
       "      <th>Entry_times</th>\n",
       "      <th>Categories</th>\n",
       "      <th>Total_stay</th>\n",
       "      <th>Gausian_feature</th>\n",
       "      <th>Client</th>\n",
       "      <th>Total_stay_LR</th>\n",
       "      <th>Categories_LR</th>\n",
       "      <th>Gausian_LR</th>\n",
       "      <th>Entry_times_LR</th>\n",
       "      <th>Gausian_LinearRegression</th>\n",
       "      <th>Gausian_RandomForest</th>\n",
       "    </tr>\n",
       "  </thead>\n",
       "  <tbody>\n",
       "    <tr>\n",
       "      <th>5325</th>\n",
       "      <td>2011-08-10 21:00:00</td>\n",
       "      <td>Electric appliance</td>\n",
       "      <td>6.297837</td>\n",
       "      <td>34.306775</td>\n",
       "      <td>1</td>\n",
       "      <td>2</td>\n",
       "      <td>1</td>\n",
       "      <td>1</td>\n",
       "      <td>1</td>\n",
       "      <td>1</td>\n",
       "      <td>1</td>\n",
       "    </tr>\n",
       "    <tr>\n",
       "      <th>8523</th>\n",
       "      <td>2011-12-22 03:00:00</td>\n",
       "      <td>etc</td>\n",
       "      <td>4.983233</td>\n",
       "      <td>-7.034270</td>\n",
       "      <td>1</td>\n",
       "      <td>1</td>\n",
       "      <td>2</td>\n",
       "      <td>2</td>\n",
       "      <td>2</td>\n",
       "      <td>2</td>\n",
       "      <td>1</td>\n",
       "    </tr>\n",
       "    <tr>\n",
       "      <th>15403</th>\n",
       "      <td>2012-02-25 15:00:00</td>\n",
       "      <td>etc</td>\n",
       "      <td>9.513337</td>\n",
       "      <td>-31.343766</td>\n",
       "      <td>2</td>\n",
       "      <td>2</td>\n",
       "      <td>2</td>\n",
       "      <td>2</td>\n",
       "      <td>2</td>\n",
       "      <td>2</td>\n",
       "      <td>2</td>\n",
       "    </tr>\n",
       "    <tr>\n",
       "      <th>2152</th>\n",
       "      <td>2011-03-31 16:00:00</td>\n",
       "      <td>etc</td>\n",
       "      <td>4.039262</td>\n",
       "      <td>98.370546</td>\n",
       "      <td>1</td>\n",
       "      <td>1</td>\n",
       "      <td>2</td>\n",
       "      <td>1</td>\n",
       "      <td>1</td>\n",
       "      <td>1</td>\n",
       "      <td>1</td>\n",
       "    </tr>\n",
       "    <tr>\n",
       "      <th>19644</th>\n",
       "      <td>2012-08-20 08:00:00</td>\n",
       "      <td>Women's clothing</td>\n",
       "      <td>5.910105</td>\n",
       "      <td>26.894948</td>\n",
       "      <td>2</td>\n",
       "      <td>1</td>\n",
       "      <td>2</td>\n",
       "      <td>1</td>\n",
       "      <td>2</td>\n",
       "      <td>1</td>\n",
       "      <td>1</td>\n",
       "    </tr>\n",
       "    <tr>\n",
       "      <th>7018</th>\n",
       "      <td>2011-10-20 10:00:00</td>\n",
       "      <td>Climbing equipment</td>\n",
       "      <td>3.255399</td>\n",
       "      <td>28.307711</td>\n",
       "      <td>1</td>\n",
       "      <td>1</td>\n",
       "      <td>1</td>\n",
       "      <td>1</td>\n",
       "      <td>1</td>\n",
       "      <td>1</td>\n",
       "      <td>1</td>\n",
       "    </tr>\n",
       "    <tr>\n",
       "      <th>19226</th>\n",
       "      <td>2012-08-02 22:00:00</td>\n",
       "      <td>etc</td>\n",
       "      <td>9.466290</td>\n",
       "      <td>33.658261</td>\n",
       "      <td>2</td>\n",
       "      <td>2</td>\n",
       "      <td>2</td>\n",
       "      <td>1</td>\n",
       "      <td>2</td>\n",
       "      <td>1</td>\n",
       "      <td>1</td>\n",
       "    </tr>\n",
       "    <tr>\n",
       "      <th>4614</th>\n",
       "      <td>2011-07-12 06:00:00</td>\n",
       "      <td>Electric appliance</td>\n",
       "      <td>2.847985</td>\n",
       "      <td>25.183459</td>\n",
       "      <td>1</td>\n",
       "      <td>1</td>\n",
       "      <td>1</td>\n",
       "      <td>1</td>\n",
       "      <td>1</td>\n",
       "      <td>1</td>\n",
       "      <td>1</td>\n",
       "    </tr>\n",
       "    <tr>\n",
       "      <th>18578</th>\n",
       "      <td>2012-07-06 22:00:00</td>\n",
       "      <td>Jewlery</td>\n",
       "      <td>9.392222</td>\n",
       "      <td>6.186682</td>\n",
       "      <td>2</td>\n",
       "      <td>2</td>\n",
       "      <td>2</td>\n",
       "      <td>1</td>\n",
       "      <td>2</td>\n",
       "      <td>1</td>\n",
       "      <td>2</td>\n",
       "    </tr>\n",
       "    <tr>\n",
       "      <th>16892</th>\n",
       "      <td>2012-04-27 16:00:00</td>\n",
       "      <td>Women's clothing</td>\n",
       "      <td>8.221460</td>\n",
       "      <td>-27.819518</td>\n",
       "      <td>2</td>\n",
       "      <td>2</td>\n",
       "      <td>2</td>\n",
       "      <td>2</td>\n",
       "      <td>2</td>\n",
       "      <td>2</td>\n",
       "      <td>2</td>\n",
       "    </tr>\n",
       "  </tbody>\n",
       "</table>\n",
       "</div>"
      ],
      "text/plain": [
       "              Entry_times          Categories  Total_stay  Gausian_feature  \\\n",
       "5325  2011-08-10 21:00:00  Electric appliance    6.297837        34.306775   \n",
       "8523  2011-12-22 03:00:00                 etc    4.983233        -7.034270   \n",
       "15403 2012-02-25 15:00:00                 etc    9.513337       -31.343766   \n",
       "2152  2011-03-31 16:00:00                 etc    4.039262        98.370546   \n",
       "19644 2012-08-20 08:00:00    Women's clothing    5.910105        26.894948   \n",
       "7018  2011-10-20 10:00:00  Climbing equipment    3.255399        28.307711   \n",
       "19226 2012-08-02 22:00:00                 etc    9.466290        33.658261   \n",
       "4614  2011-07-12 06:00:00  Electric appliance    2.847985        25.183459   \n",
       "18578 2012-07-06 22:00:00             Jewlery    9.392222         6.186682   \n",
       "16892 2012-04-27 16:00:00    Women's clothing    8.221460       -27.819518   \n",
       "\n",
       "       Client  Total_stay_LR  Categories_LR  Gausian_LR  Entry_times_LR  \\\n",
       "5325        1              2              1           1               1   \n",
       "8523        1              1              2           2               2   \n",
       "15403       2              2              2           2               2   \n",
       "2152        1              1              2           1               1   \n",
       "19644       2              1              2           1               2   \n",
       "7018        1              1              1           1               1   \n",
       "19226       2              2              2           1               2   \n",
       "4614        1              1              1           1               1   \n",
       "18578       2              2              2           1               2   \n",
       "16892       2              2              2           2               2   \n",
       "\n",
       "       Gausian_LinearRegression  Gausian_RandomForest  \n",
       "5325                          1                     1  \n",
       "8523                          2                     1  \n",
       "15403                         2                     2  \n",
       "2152                          1                     1  \n",
       "19644                         1                     1  \n",
       "7018                          1                     1  \n",
       "19226                         1                     1  \n",
       "4614                          1                     1  \n",
       "18578                         1                     2  \n",
       "16892                         2                     2  "
      ]
     },
     "execution_count": 138,
     "metadata": {},
     "output_type": "execute_result"
    }
   ],
   "source": [
    "data_added_columns[:10]"
   ]
  },
  {
   "cell_type": "markdown",
   "metadata": {},
   "source": [
    "#### Ensembles: \n",
    "    -ensemble1 \n",
    "        -Features: \n",
    "            -Entry times\n",
    "            -Total stay\n",
    "            -PL_categories1 - MultinomailNB (Classifier output)\n",
    "            -'PL_Total_stay - LinearRegression'\n",
    "            "
   ]
  },
  {
   "cell_type": "code",
   "execution_count": 295,
   "metadata": {
    "collapsed": false
   },
   "outputs": [],
   "source": [
    "pipeline_ensemble1 = Pipeline([\n",
    "        ('features', Features1),\n",
    "        ('classifier', LinearRegression())\n",
    "    ])"
   ]
  },
  {
   "cell_type": "code",
   "execution_count": null,
   "metadata": {
    "collapsed": true
   },
   "outputs": [],
   "source": []
  },
  {
   "cell_type": "code",
   "execution_count": 167,
   "metadata": {
    "collapsed": false
   },
   "outputs": [],
   "source": [
    "# pipeline_ensemble2 = Pipeline([\n",
    "#         ('features', Features1),\n",
    "#         ('classifier', RandomForestRegressor(n_jobs=-1, n_estimators=600, min_samples_split=10, max_features=4))\n",
    "#         ])\n",
    "\n",
    "# pipeline_ensemble3 = Pipeline([\n",
    "#         ('features', FeatureUnion([\n",
    "#             ('features', all_features),\n",
    "#             ('categories', Pipeline([\n",
    "#                 ('extract_cat', ColumnExtractor('Categories')),\n",
    "#                 ('vectorizer',  CountVectorizer()),                               \n",
    "#             ])),                    \n",
    "#         ])),\n",
    "#         ('classifier', RandomForestRegressor(n_jobs=-1, n_estimators=600, min_samples_split=10, max_features=4))\n",
    "#     ])\n",
    "\n",
    "# pipeline_ensemble4 = Pipeline([\n",
    "#         ('features', FeatureUnion([\n",
    "#             ('features', Features1),\n",
    "#             ('categories', Pipeline([\n",
    "#                 ('extract_cat', ColumnExtractor('Categories')),\n",
    "#                 ('vectorizer',  CountVectorizer()),                               \n",
    "#             ])), \n",
    "#             ('gausian', Pipeline([\n",
    "#                 ('extract_ts', ColumnExtractor('Gausian_feature')),\n",
    "#                 ('reshpe',     Reshaper([-1,1]))\n",
    "#             ])),\n",
    "#         ])),\n",
    "#         ('classifier', RandomForestRegressor(n_jobs=-1, n_estimators=600, min_samples_split=10, max_features=4))\n",
    "#     ])\n",
    "\n",
    "# pipeline_ensemble4_linearReg = Pipeline([\n",
    "#         ('features', FeatureUnion([\n",
    "#             ('features', Features1),\n",
    "#             ('categories', Pipeline([\n",
    "#                 ('extract_cat', ColumnExtractor('Categories')),\n",
    "#                 ('vectorizer',  CountVectorizer()),                               \n",
    "#             ])), \n",
    "#             ('gausian', Pipeline([\n",
    "#                 ('extract_ts', ColumnExtractor('Gausian_feature')),\n",
    "#                 ('reshpe',     Reshaper([-1,1]))\n",
    "#             ])),\n",
    "#         ])),\n",
    "#         ('classifier', LinearRegression())    \n",
    "#     ])\n",
    "\n",
    "# pipeline_ensemble4_logisticReg = Pipeline([\n",
    "#         ('features', FeatureUnion([\n",
    "#             ('features', Features1),\n",
    "#             ('categories', Pipeline([\n",
    "#                 ('extract_cat', ColumnExtractor('Categories')),\n",
    "#                 ('vectorizer',  CountVectorizer()),                               \n",
    "#             ])), \n",
    "#             ('gausian', Pipeline([\n",
    "#                 ('extract_ts', ColumnExtractor('Gausian_feature')),\n",
    "#                 ('reshpe',     Reshaper([-1,1]))\n",
    "#             ])),\n",
    "#         ])),\n",
    "#         ('classifier', LogisticRegression())    \n",
    "#     ])\n",
    "\n",
    "\n",
    "\n",
    "pipeline_ensemble5 = Pipeline([\n",
    "        ('features', FeatureUnion([\n",
    "            ('features', all_features),\n",
    "            ('Double1', Pipeline([\n",
    "                ('Double1', ColumnExtractor('Double: Gausian, Total Stay')),\n",
    "                ('reshpe',     Reshaper([-1,1]))\n",
    "            ])),\n",
    "            ('Double2', Pipeline([\n",
    "                ('Double2', ColumnExtractor('Double: Entry Times, Gausian')),\n",
    "                ('reshpe',     Reshaper([-1,1]))\n",
    "            ])),\n",
    "            ('Triple1', Pipeline([\n",
    "                ('Triple1', ColumnExtractor('Triple: Gausian, Entry Times, Total Stay')),\n",
    "                ('reshpe',     Reshaper([-1,1]))\n",
    "            ])),\n",
    "            ('Triple2', Pipeline([\n",
    "                ('Triple2', ColumnExtractor('Triple: Gausian, Entry Times, Categories')),\n",
    "                ('reshpe',     Reshaper([-1,1]))\n",
    "            ])),\n",
    "            ('Triple3', Pipeline([\n",
    "                ('Triple3', ColumnExtractor('Triple: Categories, Entry_times, Total Stay')),\n",
    "                ('reshpe',     Reshaper([-1,1]))\n",
    "            ])),\n",
    "            ('AllFeatures_col', Pipeline([\n",
    "                ('AllFeatures_col', ColumnExtractor('All Features')),\n",
    "                ('reshpe',     Reshaper([-1,1]))\n",
    "            ])),\n",
    "        ])),\n",
    "        ('classifier', RandomForestRegressor(n_jobs=-1, n_estimators=300, min_samples_split=10, max_features=10))\n",
    "    ])\n",
    "\n",
    "# 'Double: Entry Times, Total Stay': pipeline_double1,\n",
    "# 'Double: Entry Times, Gausian'    : pipeline_double2, \n",
    "# 'Double: Gausian, Total Stay'  \n",
    "# Triple: Gausian, Entry Times, Total Stay\n",
    "# Triple: Gausian, Entry Times, Categories\n",
    "# Triple: Categories, Entry_times, Total Stay"
   ]
  },
  {
   "cell_type": "code",
   "execution_count": 169,
   "metadata": {
    "collapsed": false
   },
   "outputs": [
    {
     "name": "stdout",
     "output_type": "stream",
     "text": [
      "    Pipeline:  Ensemble 5\n",
      "    Score: 0.995799641496\n",
      "    Confusion matrix:\n",
      "     [9947   53] \n",
      "     [  31 9969]\n",
      "    Misclassified:  84 ,0.42%\n",
      "***********************************\n"
     ]
    }
   ],
   "source": [
    "test_pipelines(data_added_columns, {#'Ensemble 1': pipeline_ensemble1, 'Ensemble 2': pipeline_ensemble2,\n",
    "                                    #'Ensemble 3': pipeline_ensemble3, 'Ensemble 4': pipeline_ensemble4, \n",
    "                                    #, 'Ensemble 4 linearReg': pipeline_ensemble4_linearReg,\n",
    "                                    #'Ensemble 4 logisticReg': pipeline_ensemble4_logisticReg, \n",
    "                                     'Ensemble 5': pipeline_ensemble5},\n",
    "                                    verbose=True)"
   ]
  },
  {
   "cell_type": "markdown",
   "metadata": {},
   "source": [
    "### A discussion on fitting the right classifier depending on properties of the data. "
   ]
  },
  {
   "cell_type": "markdown",
   "metadata": {},
   "source": [
    "[[back to top](#top)]"
   ]
  },
  {
   "cell_type": "markdown",
   "metadata": {
    "collapsed": false
   },
   "source": [
    "</a><a id='References'></a>"
   ]
  },
  {
   "cell_type": "markdown",
   "metadata": {},
   "source": [
    "### References:"
   ]
  },
  {
   "cell_type": "markdown",
   "metadata": {},
   "source": [
    "[[back to top](#top)]"
   ]
  },
  {
   "cell_type": "markdown",
   "metadata": {},
   "source": [
    "Besides documentation, I relied greatly on the following documents for guidence: \n",
    "\n",
    "1) Zac Stewart on document classification, email spam filtering. \n",
    "http://zacstewart.com/2015/04/28/document-classification-with-scikit-learn.html\n",
    "\n",
    "2) Radim Rehurek on sms spam filtering. \n",
    "http://radimrehurek.com/data_science_python/\n",
    "\n",
    "3) Zac Stewart on pipelines and featureUnions. \n",
    "http://zacstewart.com/2014/08/05/pipelines-of-featureunions-of-pipelines.html\n",
    "\n",
    "4) matplotlib - 2D and 3D plotting in Python¶\n",
    "http://nbviewer.jupyter.org/github/jrjohansson/scientific-python-lectures/blob/master/Lecture-4-Matplotlib.ipynb\n",
    "\n",
    "5) Pandas tutorial: http://nbviewer.jupyter.org/github/pybokeh/ipython_notebooks/blob/master/pandas/PandasCheatSheet.ipynb#options"
   ]
  },
  {
   "cell_type": "code",
   "execution_count": null,
   "metadata": {
    "collapsed": true
   },
   "outputs": [],
   "source": []
  },
  {
   "cell_type": "code",
   "execution_count": null,
   "metadata": {
    "collapsed": true
   },
   "outputs": [],
   "source": []
  },
  {
   "cell_type": "code",
   "execution_count": null,
   "metadata": {
    "collapsed": true
   },
   "outputs": [],
   "source": []
  },
  {
   "cell_type": "code",
   "execution_count": null,
   "metadata": {
    "collapsed": true
   },
   "outputs": [],
   "source": []
  },
  {
   "cell_type": "code",
   "execution_count": null,
   "metadata": {
    "collapsed": true
   },
   "outputs": [],
   "source": []
  },
  {
   "cell_type": "code",
   "execution_count": null,
   "metadata": {
    "collapsed": true
   },
   "outputs": [],
   "source": []
  },
  {
   "cell_type": "code",
   "execution_count": null,
   "metadata": {
    "collapsed": true
   },
   "outputs": [],
   "source": []
  },
  {
   "cell_type": "code",
   "execution_count": null,
   "metadata": {
    "collapsed": true
   },
   "outputs": [],
   "source": []
  },
  {
   "cell_type": "code",
   "execution_count": null,
   "metadata": {
    "collapsed": true
   },
   "outputs": [],
   "source": []
  },
  {
   "cell_type": "code",
   "execution_count": null,
   "metadata": {
    "collapsed": true
   },
   "outputs": [],
   "source": []
  },
  {
   "cell_type": "code",
   "execution_count": null,
   "metadata": {
    "collapsed": true
   },
   "outputs": [],
   "source": []
  },
  {
   "cell_type": "code",
   "execution_count": null,
   "metadata": {
    "collapsed": true
   },
   "outputs": [],
   "source": []
  },
  {
   "cell_type": "code",
   "execution_count": null,
   "metadata": {
    "collapsed": true
   },
   "outputs": [],
   "source": []
  },
  {
   "cell_type": "code",
   "execution_count": null,
   "metadata": {
    "collapsed": true
   },
   "outputs": [],
   "source": []
  },
  {
   "cell_type": "code",
   "execution_count": null,
   "metadata": {
    "collapsed": true
   },
   "outputs": [],
   "source": []
  },
  {
   "cell_type": "code",
   "execution_count": null,
   "metadata": {
    "collapsed": true
   },
   "outputs": [],
   "source": []
  },
  {
   "cell_type": "code",
   "execution_count": null,
   "metadata": {
    "collapsed": true
   },
   "outputs": [],
   "source": []
  }
 ],
 "metadata": {
  "kernelspec": {
   "display_name": "Python 3",
   "language": "python",
   "name": "python3"
  },
  "language_info": {
   "codemirror_mode": {
    "name": "ipython",
    "version": 3
   },
   "file_extension": ".py",
   "mimetype": "text/x-python",
   "name": "python",
   "nbconvert_exporter": "python",
   "pygments_lexer": "ipython3",
   "version": "3.5.1"
  }
 },
 "nbformat": 4,
 "nbformat_minor": 0
}
